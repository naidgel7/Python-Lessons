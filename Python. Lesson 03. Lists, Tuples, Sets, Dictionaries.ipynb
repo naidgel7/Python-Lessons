{
 "cells": [
  {
   "cell_type": "markdown",
   "metadata": {},
   "source": [
    "<h2>Table of Contents</h2>\n",
    "    <div class=\"alert alert-block alert-info\" style=\"margin-top: 20px\">\n",
    "        <ul>\n",
    "            <li>\n",
    "                <a href=\"#lists\">Lists</a>\n",
    "            </li>\n",
    "            <li>\n",
    "                <a href=\"#tuples\">Tuples</a>\n",
    "            </li>\n",
    "            <li>\n",
    "                <a href=\"#sets\">Sets</a>\n",
    "            </li>\n",
    "            <li>\n",
    "                <a href=\"#dictionaries\">Dictionaries</a>\n",
    "            </li>\n",
    "        </ul>\n",
    "    </div>\n",
    "<hr>"
   ]
  },
  {
   "cell_type": "markdown",
   "metadata": {},
   "source": [
    "### Lists: ordered, muti, with duplicates"
   ]
  },
  {
   "cell_type": "code",
   "execution_count": null,
   "metadata": {},
   "outputs": [],
   "source": [
    "a = list('list')\n",
    "print(a)\n",
    "numbers = [51,78,46,65,3,9]\n",
    "names = ['Jack', 'John', 'Michael']\n",
    "values = [3, 'Tim', 6.453]\n",
    "s = [] # Empty list\n",
    "together = [numbers, names, values, s]\n",
    "print(list(together))"
   ]
  },
  {
   "cell_type": "code",
   "execution_count": null,
   "metadata": {},
   "outputs": [],
   "source": [
    "numbers = [51,78,46,65,3,9,3,10,100,33,42,101]\n",
    "print(min(numbers))\n",
    "print(max(numbers))\n",
    "print(sum(numbers))\n",
    "numbers.sort() #list.sort([key=функция]) - Sorts the list on the basis of function\n",
    "print(numbers)\n",
    "numbers.reverse() #list.reverse() - Reverses the order of the list\n",
    "print(numbers)"
   ]
  },
  {
   "cell_type": "code",
   "execution_count": null,
   "metadata": {},
   "outputs": [],
   "source": [
    "sorted([51,78,46,65,3,9,3,10,100,33,42,101]) # sorts the list of numbers"
   ]
  },
  {
   "cell_type": "code",
   "execution_count": null,
   "metadata": {},
   "outputs": [],
   "source": [
    "sorted(['Michael', 'Jack', 'John', \"Alfred\"]) # sorts the list of strings"
   ]
  },
  {
   "cell_type": "code",
   "execution_count": null,
   "metadata": {},
   "outputs": [],
   "source": [
    "numbers = [51,78,46,65,3,9,3,10,100,33,42,101]\n",
    "print(\"Winning numbers are: \" + str(numbers[3]) + \", \" + str(numbers[7])+ \", \" + str(numbers[8]))"
   ]
  },
  {
   "cell_type": "code",
   "execution_count": null,
   "metadata": {},
   "outputs": [],
   "source": [
    "c = [c * 3 for c in 'list' if c != 'i']\n",
    "list(c)"
   ]
  },
  {
   "cell_type": "code",
   "execution_count": null,
   "metadata": {},
   "outputs": [],
   "source": [
    "c = [c + d for c in 'list' if c != 'i' for d in 'spam' if d != 'a']\n",
    "list(c)"
   ]
  },
  {
   "cell_type": "code",
   "execution_count": null,
   "metadata": {},
   "outputs": [],
   "source": [
    "a = [1,2,3,4,5,6,7,8,9,10]\n",
    "del a[3:6]\n",
    "print(a)"
   ]
  },
  {
   "cell_type": "code",
   "execution_count": null,
   "metadata": {},
   "outputs": [],
   "source": [
    "# list.append(x) - Добавляет элемент в конец списка (Adds an element at the end of the list)\n",
    "a = [1,2,3,4,5,6,7,8,9,10]\n",
    "a.append(2)\n",
    "print (a)"
   ]
  },
  {
   "cell_type": "code",
   "execution_count": null,
   "metadata": {},
   "outputs": [],
   "source": [
    "# list.extend(L) - Расширяет список list, добавляя в конец все элементы списка L \n",
    "# (Add the elements of a list (or any iterable), to the end of the current list)\n",
    "a = [1,2,3,4,5,6,7,8,9,10]\n",
    "b = ['a', 'b', 'c']\n",
    "a.extend(b)\n",
    "print (a)\n",
    "a.extend ([1,1,1])\n",
    "print (a)"
   ]
  },
  {
   "cell_type": "code",
   "execution_count": null,
   "metadata": {},
   "outputs": [],
   "source": [
    "# list.insert(i, x) - Вставляет на i-ый элемент значение x (Adds an element at the specified position)\n",
    "a = [1,2,3,4,5,6,7,8,9,10]\n",
    "a.insert(2, -8)\n",
    "print (a)"
   ]
  },
  {
   "cell_type": "code",
   "execution_count": null,
   "metadata": {},
   "outputs": [],
   "source": [
    "#list.remove(x) - Removes the item with the specified value. ValueError, if there is no such element.\n",
    "a = [1,2,3,4,5,6,7,8,8,8,9,10]\n",
    "a.remove(8)\n",
    "print (a)"
   ]
  },
  {
   "cell_type": "code",
   "execution_count": null,
   "metadata": {},
   "outputs": [],
   "source": [
    "#list.pop([i]) - Removes the element at the specified position. Если индекс не указан, удаляется последний элемент.\n",
    "a = [1,2,3,4,5,6,7,8,9,10]\n",
    "a.pop(4)\n",
    "print (a)\n",
    "print (a.pop())"
   ]
  },
  {
   "cell_type": "code",
   "execution_count": null,
   "metadata": {},
   "outputs": [],
   "source": [
    "# list.index(x, [start [, end]]) - Возвращает положение первого элемента со значением x (при этом поиск ведется от start до end)\n",
    "a = [1,2,3,4,5,6,7,8,9,10]  #Returns the index of the first element with the specified value\n",
    "print (a.index(4))"
   ]
  },
  {
   "cell_type": "code",
   "execution_count": null,
   "metadata": {},
   "outputs": [],
   "source": [
    "#list.count(x) - Возвращает количество элементов с указанным значением (Returns the number of elements with the specified value)\n",
    "a = [1,2,3,4,5,5,6,7,8,9,10,5]\n",
    "print (a.count(5))"
   ]
  },
  {
   "cell_type": "code",
   "execution_count": null,
   "metadata": {},
   "outputs": [],
   "source": [
    "#list.copy() - Поверхностная копия списка (Returns a copy of the list)"
   ]
  },
  {
   "cell_type": "code",
   "execution_count": null,
   "metadata": {},
   "outputs": [],
   "source": [
    "# list.clear() - Очищает список (Removes all the elements from the list)\n",
    "a = [2,8,4,9,6,1,7]\n",
    "a.clear()\n",
    "print (a)"
   ]
  },
  {
   "cell_type": "code",
   "execution_count": null,
   "metadata": {},
   "outputs": [],
   "source": [
    "Employees = ['John', 'Max', 'Dave']\n",
    "print(\"The first employee is \" + Employees[0] + '.')"
   ]
  },
  {
   "cell_type": "markdown",
   "metadata": {},
   "source": [
    "<h3>Slicing</h3>"
   ]
  },
  {
   "cell_type": "code",
   "execution_count": 23,
   "metadata": {},
   "outputs": [
    {
     "name": "stdout",
     "output_type": "stream",
     "text": [
      "8\n",
      "4\n",
      "[3, 7, 2]\n",
      "Kais\n"
     ]
    }
   ],
   "source": [
    "a = [1,3,8,7,3,2,[2,3,4,[\"Tom\",\"Kais\"]],4]\n",
    "print (a[2])\n",
    "print (a[-1])\n",
    "print (a[1:6:2])\n",
    "print (a[-2][-1][1])"
   ]
  },
  {
   "cell_type": "markdown",
   "metadata": {},
   "source": [
    "<h3>Changing lists</h3>"
   ]
  },
  {
   "cell_type": "code",
   "execution_count": 30,
   "metadata": {},
   "outputs": [
    {
     "name": "stdout",
     "output_type": "stream",
     "text": [
      "[5, 5, 5, 5, 5, 5, [2, 3, 4, ['John', 'Kais']]]\n"
     ]
    }
   ],
   "source": [
    "a = [1,3,8,7,3,2,[2,3,4,[\"Tom\",\"Kais\"]],4]\n",
    "a[0:6] = [5,5,5,5,5,5]\n",
    "a[-2][-1][0] = \"John\"\n",
    "del a[-1]\n",
    "print (a)"
   ]
  },
  {
   "cell_type": "code",
   "execution_count": 31,
   "metadata": {},
   "outputs": [
    {
     "name": "stdout",
     "output_type": "stream",
     "text": [
      "[[1, 2, 3, 4, 5, 6, 7, 8, 9, 10], ['a', 'b', 'c']]\n"
     ]
    }
   ],
   "source": [
    "a = [1,2,3,4,5,6,7,8,9,10]\n",
    "b = ['a', 'b', 'c']\n",
    "c = [a,b]\n",
    "print (c)"
   ]
  },
  {
   "cell_type": "code",
   "execution_count": null,
   "metadata": {},
   "outputs": [],
   "source": [
    "print([i for i in range(int(input()))])"
   ]
  },
  {
   "cell_type": "markdown",
   "metadata": {},
   "source": [
    "### Tuple (ordered, unchangeable, duplicates)\n",
    "\n",
    "Все операции над списками, не изменяющие список (сложение, умножение на число,\n",
    "методы index() и count() и некоторые другие операции).\n",
    "Можно также по-разному менять элементы местами."
   ]
  },
  {
   "cell_type": "code",
   "execution_count": null,
   "metadata": {},
   "outputs": [],
   "source": [
    "a = tuple()\n",
    "b = ()\n",
    "c = ([5,6,7])\n",
    "numbers = (51,78,46,65,3,9)"
   ]
  },
  {
   "cell_type": "code",
   "execution_count": null,
   "metadata": {},
   "outputs": [],
   "source": [
    "print (a)\n",
    "print (b)\n",
    "print (c)\n",
    "print (numbers)"
   ]
  },
  {
   "cell_type": "code",
   "execution_count": null,
   "metadata": {},
   "outputs": [],
   "source": [
    "a = ('s', )\n",
    "print (a)"
   ]
  },
  {
   "cell_type": "code",
   "execution_count": null,
   "metadata": {},
   "outputs": [],
   "source": [
    "a = 's',\n",
    "print (a)"
   ]
  },
  {
   "cell_type": "code",
   "execution_count": null,
   "metadata": {},
   "outputs": [],
   "source": [
    "#Кортеж из итерируемого объекта\n",
    "a = tuple('Depeche Mode')\n",
    "print(a)"
   ]
  },
  {
   "cell_type": "code",
   "execution_count": null,
   "metadata": {},
   "outputs": [],
   "source": [
    "(age, years_of_education) = \"28,18\".split(',')\n",
    "print (age)\n",
    "print (years_of_education)"
   ]
  },
  {
   "cell_type": "code",
   "execution_count": null,
   "metadata": {},
   "outputs": [],
   "source": [
    "def square_info(x):\n",
    "    A = x**2\n",
    "    P = x*4\n",
    "    print (\"Area and Perimeter: \")\n",
    "    return A,P\n",
    "square_info(5)"
   ]
  },
  {
   "cell_type": "markdown",
   "metadata": {},
   "source": [
    "### Set (unordered, unindexed, no duplicates)"
   ]
  },
  {
   "cell_type": "code",
   "execution_count": null,
   "metadata": {},
   "outputs": [],
   "source": [
    "set = {33,22,54,23,8,12,8,8,8,8,8,8}\n",
    "set"
   ]
  },
  {
   "cell_type": "code",
   "execution_count": null,
   "metadata": {},
   "outputs": [],
   "source": [
    "len(set)"
   ]
  },
  {
   "cell_type": "markdown",
   "metadata": {},
   "source": [
    "### Dictionary (unordered, changeable, indexed, no duplicates)"
   ]
  },
  {
   "cell_type": "code",
   "execution_count": null,
   "metadata": {},
   "outputs": [],
   "source": [
    "Group = {'1':'England','2':'Russia','3':'Sweden'}\n",
    "print (type(Group))\n",
    "print (Group.keys())\n",
    "print (Group.values())"
   ]
  },
  {
   "cell_type": "code",
   "execution_count": null,
   "metadata": {},
   "outputs": [],
   "source": []
  },
  {
   "cell_type": "code",
   "execution_count": null,
   "metadata": {},
   "outputs": [],
   "source": [
    "# Неупорядоченные коллекции произвольных объектов с доступом по ключу. \n",
    "# Их иногда называют ассоциативными массивами или хеш-таблицами."
   ]
  },
  {
   "cell_type": "code",
   "execution_count": null,
   "metadata": {},
   "outputs": [],
   "source": [
    "d1 = {}\n",
    "d2 = dict(car='audi', number = '342')\n",
    "d3 = {'dict': 1, 'dictionary': 2}\n",
    "\n",
    "print (d1)\n",
    "print (d2)\n",
    "print (d3)"
   ]
  },
  {
   "cell_type": "code",
   "execution_count": null,
   "metadata": {},
   "outputs": [],
   "source": [
    "print({'name':'Richard','city':'Stuttgart','country':'Germany'}[\"city\"])\n",
    "print({'name':'Richard','city':'Stuttgart','country':'Germany'}['name'])\n",
    "\n",
    "dict = {'name':'Richard','city':'Stuttgart','country':'Germany'}\n",
    "print (dict[\"country\"])\n",
    "dict[\"university\"] = \"Hohenheim\"\n",
    "print (dict)\n",
    "dict[\"name\"] = \"Richard Vsevolod\"\n",
    "print (dict)"
   ]
  },
  {
   "cell_type": "code",
   "execution_count": null,
   "metadata": {},
   "outputs": [],
   "source": [
    "print(dict.keys())\n",
    "print(dict.values())"
   ]
  },
  {
   "cell_type": "code",
   "execution_count": null,
   "metadata": {},
   "outputs": [],
   "source": [
    "#Создание с помощью функции dict\n",
    "d = dict(short='dict', long='dictionary')\n",
    "print (d)\n",
    "\n",
    "#OR\n",
    "\n",
    "d = dict([(1, 1), (2, 4)])\n",
    "print (d)\t#Result: {1: 1, 2: 4}"
   ]
  },
  {
   "cell_type": "code",
   "execution_count": null,
   "metadata": {},
   "outputs": [],
   "source": [
    "#Создание с помощью метода fromkeys\n",
    "\n",
    "d = dict.fromkeys(['a', 'b'])\n",
    "print (d)\n",
    "\n",
    "#OR\n",
    "\n",
    "d = dict.fromkeys(['a', 'b'], 100)\n",
    "print (d)"
   ]
  },
  {
   "cell_type": "code",
   "execution_count": null,
   "metadata": {},
   "outputs": [],
   "source": [
    "#Создание с помощью генераторов словарей\n",
    "\n",
    "d = {a: a ** 2 for a in range(7)}\n",
    "print (d)"
   ]
  },
  {
   "cell_type": "code",
   "execution_count": null,
   "metadata": {},
   "outputs": [],
   "source": [
    "#d.keys\n",
    "\n",
    "#adding to the dictionery\n",
    "dict['new_key'] = \"new_value\"\n",
    "\n",
    "#get\n",
    "print dict.get(\"key\")\n",
    "\n",
    "#d.values\n",
    "#copy\n",
    "#del d[\"name\"]\n",
    "# clear"
   ]
  },
  {
   "cell_type": "code",
   "execution_count": 2,
   "metadata": {},
   "outputs": [
    {
     "ename": "TypeError",
     "evalue": "'builtin_function_or_method' object is not subscriptable",
     "output_type": "error",
     "traceback": [
      "\u001b[0;31m---------------------------------------------------------------------------\u001b[0m",
      "\u001b[0;31mTypeError\u001b[0m                                 Traceback (most recent call last)",
      "\u001b[0;32m<ipython-input-2-8712ec753f60>\u001b[0m in \u001b[0;36m<module>\u001b[0;34m\u001b[0m\n\u001b[1;32m      1\u001b[0m \u001b[0mdict\u001b[0m \u001b[0;34m=\u001b[0m \u001b[0;34m{\u001b[0m\u001b[0;34m'name'\u001b[0m\u001b[0;34m:\u001b[0m\u001b[0;34m'Richard'\u001b[0m\u001b[0;34m,\u001b[0m\u001b[0;34m'city'\u001b[0m\u001b[0;34m:\u001b[0m\u001b[0;34m'Stuttgart'\u001b[0m\u001b[0;34m,\u001b[0m\u001b[0;34m'country'\u001b[0m\u001b[0;34m:\u001b[0m\u001b[0;34m'Germany'\u001b[0m\u001b[0;34m}\u001b[0m\u001b[0;34m\u001b[0m\u001b[0;34m\u001b[0m\u001b[0m\n\u001b[0;32m----> 2\u001b[0;31m \u001b[0mdict\u001b[0m\u001b[0;34m.\u001b[0m\u001b[0mvalues\u001b[0m\u001b[0;34m[\u001b[0m\u001b[0;34m(\u001b[0m\u001b[0;36m1\u001b[0m\u001b[0;34m)\u001b[0m\u001b[0;34m]\u001b[0m\u001b[0;34m\u001b[0m\u001b[0;34m\u001b[0m\u001b[0m\n\u001b[0m",
      "\u001b[0;31mTypeError\u001b[0m: 'builtin_function_or_method' object is not subscriptable"
     ]
    }
   ],
   "source": [
    "dict = {'name':'Richard','city':'Stuttgart','country':'Germany'}\n",
    "dict.values[(1)]"
   ]
  },
  {
   "cell_type": "code",
   "execution_count": null,
   "metadata": {},
   "outputs": [],
   "source": []
  }
 ],
 "metadata": {
  "kernelspec": {
   "display_name": "Python 3",
   "language": "python",
   "name": "python3"
  },
  "language_info": {
   "codemirror_mode": {
    "name": "ipython",
    "version": 3
   },
   "file_extension": ".py",
   "mimetype": "text/x-python",
   "name": "python",
   "nbconvert_exporter": "python",
   "pygments_lexer": "ipython3",
   "version": "3.7.3"
  }
 },
 "nbformat": 4,
 "nbformat_minor": 2
}
