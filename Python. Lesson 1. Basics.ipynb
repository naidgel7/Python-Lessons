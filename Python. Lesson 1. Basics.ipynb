{
 "cells": [
  {
   "cell_type": "markdown",
   "metadata": {},
   "source": [
    "<h1>Basics of Python</h1>"
   ]
  },
  {
   "cell_type": "markdown",
   "metadata": {},
   "source": [
    "<h2>Table of Contents</h2>\n",
    "<div class=\"alert alert-block alert-info\" style=\"margin-top: 20px\">\n",
    "    <ul>\n",
    "        <li>\n",
    "            <a>Operations</a>\n",
    "            <ul>\n",
    "                <li>\n",
    "                    <a href=\"#math\">Mathematical operations</a>\n",
    "                </li>\n",
    "                <li>\n",
    "                    <a href=\"#assignment\">Assignment operations</a>\n",
    "                </li>\n",
    "                <li>\n",
    "                    <a href=\"#comparison\">Comparison (relational) operations</a>\n",
    "                </li>\n",
    "                <li>\n",
    "                    <a href=\"#logic\">Logical operations</a>\n",
    "                </li>\n",
    "                <li>\n",
    "                    <a href=\"#identity\">Identity operations</a>\n",
    "                </li>\n",
    "                <li>\n",
    "                    <a href=\"#bitwise\">Bitwise operations</a>\n",
    "                </li>\n",
    "            </ul>\n",
    "        </li>\n",
    "        <li> Number System Conversion\n",
    "        </li>\n",
    "        <li> Swapping 2 variables\n",
    "        </li>\n",
    "        <li> Line Continuation\n",
    "        </li>\n",
    "        <li> Data Types\n",
    "        </li>\n",
    "     </ul>\n",
    "</div>\n",
    "<hr>"
   ]
  },
  {
   "cell_type": "markdown",
   "metadata": {},
   "source": [
    "<a id=\"math\"></a>"
   ]
  },
  {
   "cell_type": "markdown",
   "metadata": {},
   "source": [
    "<h3>Mathematical operators</h3>"
   ]
  },
  {
   "cell_type": "code",
   "execution_count": 5,
   "metadata": {},
   "outputs": [
    {
     "name": "stdout",
     "output_type": "stream",
     "text": [
      "21 - addition\n",
      "25 - substraction\n",
      "12167 - power\n",
      "69 - multiplication\n",
      "7.666666666666667 - division\n",
      "7- integer division\n",
      "2 - division reminder\n"
     ]
    }
   ],
   "source": [
    "x = 23\n",
    "y = -2\n",
    "z = 3\n",
    "\n",
    "print (str(x + y) + \" - addition\")\n",
    "print (str(x - y) + \" - substraction\")\n",
    "print (str(x ** z) + \" - power\")\n",
    "print (str(x * z) + \" - multiplication\")\n",
    "print (str(x / z) + \" - division\")\n",
    "print (str(x // z) + \"- integer division\")\n",
    "print (str(x % z) + \" - division reminder\")"
   ]
  },
  {
   "cell_type": "code",
   "execution_count": null,
   "metadata": {},
   "outputs": [],
   "source": [
    "# Смена знака числа (Unary Operator)\n",
    "y = 10\n",
    "-y"
   ]
  },
  {
   "cell_type": "code",
   "execution_count": null,
   "metadata": {},
   "outputs": [],
   "source": [
    "# Модуль числа\n",
    "abs(-4)"
   ]
  },
  {
   "cell_type": "code",
   "execution_count": null,
   "metadata": {},
   "outputs": [],
   "source": [
    "# Пара (x // y, x % y)\n",
    "n = 50\n",
    "m = 20\n",
    "divmod(n, m)"
   ]
  },
  {
   "cell_type": "code",
   "execution_count": null,
   "metadata": {},
   "outputs": [],
   "source": [
    "pow(x, y[, z])\t# x в степени y по модулю (если модуль задан)"
   ]
  },
  {
   "cell_type": "code",
   "execution_count": null,
   "metadata": {},
   "outputs": [],
   "source": [
    "# возвращает число элементов последовательности (для string переменных)\n",
    "r = n*m*t*p*x\n",
    "len(str(r))"
   ]
  },
  {
   "cell_type": "code",
   "execution_count": null,
   "metadata": {},
   "outputs": [],
   "source": [
    "# суммирует все числа списка\n",
    "sum()"
   ]
  },
  {
   "cell_type": "code",
   "execution_count": null,
   "metadata": {},
   "outputs": [],
   "source": [
    "# округляет число x до у-знака\n",
    "q = 4.34234635421\n",
    "w = 4\n",
    "round(q, w)"
   ]
  },
  {
   "cell_type": "code",
   "execution_count": null,
   "metadata": {},
   "outputs": [],
   "source": [
    "# последний результат - _\n",
    "w * m\n",
    "_ + 4"
   ]
  },
  {
   "cell_type": "code",
   "execution_count": null,
   "metadata": {},
   "outputs": [],
   "source": [
    "type(_)"
   ]
  },
  {
   "cell_type": "markdown",
   "metadata": {},
   "source": [
    "<a id=\"assignment\"></a>"
   ]
  },
  {
   "cell_type": "markdown",
   "metadata": {},
   "source": [
    "<h3>Assignment operations</h3>"
   ]
  },
  {
   "cell_type": "code",
   "execution_count": null,
   "metadata": {},
   "outputs": [],
   "source": [
    "x = 2\n",
    "print (x)\n",
    "x = x + 3\n",
    "print (x)\n",
    "x += 8\n",
    "print (x)"
   ]
  },
  {
   "cell_type": "code",
   "execution_count": null,
   "metadata": {},
   "outputs": [],
   "source": [
    "# multiple assignment (tuple assignment)\n",
    "t,p = 2,3\n",
    "# or\n",
    "a,b,c,d = (10,20,30,40)\n",
    "\n",
    "#assignment to the same value\n",
    "x=y=z=2"
   ]
  },
  {
   "cell_type": "markdown",
   "metadata": {},
   "source": [
    "<a id=\"comparison\"></a>"
   ]
  },
  {
   "cell_type": "markdown",
   "metadata": {},
   "source": [
    "<h3>Comparison (relational) operations</h3>"
   ]
  },
  {
   "cell_type": "code",
   "execution_count": null,
   "metadata": {},
   "outputs": [],
   "source": [
    "a = 8\n",
    "b = 8\n",
    "a < b # less than\n",
    "a > b # greater than\n",
    "a == b # equal to\n",
    "a != b # not equal to\n",
    "a <= b # less than or equal to\n",
    "a >= b # greater than or equal to\n",
    "print (a < b, a > b)\n",
    "print (a == b, a != b)\n",
    "print (a <= b, a >= b)"
   ]
  },
  {
   "cell_type": "markdown",
   "metadata": {},
   "source": [
    "<h4>Comparing strings</h4>"
   ]
  },
  {
   "cell_type": "code",
   "execution_count": null,
   "metadata": {},
   "outputs": [],
   "source": [
    "\"test\"=='test'"
   ]
  },
  {
   "cell_type": "code",
   "execution_count": null,
   "metadata": {},
   "outputs": [],
   "source": [
    "\"test\"!=\"text\""
   ]
  },
  {
   "cell_type": "code",
   "execution_count": null,
   "metadata": {},
   "outputs": [],
   "source": [
    "\"Test\"==\"test\" # equality operator is case sensitive"
   ]
  },
  {
   "cell_type": "code",
   "execution_count": null,
   "metadata": {},
   "outputs": [],
   "source": [
    "'BA' > 'AB'"
   ]
  },
  {
   "cell_type": "markdown",
   "metadata": {},
   "source": [
    "<a id=\"logic\"></a>"
   ]
  },
  {
   "cell_type": "markdown",
   "metadata": {},
   "source": [
    "<h3>Logical operations</h3>"
   ]
  },
  {
   "cell_type": "markdown",
   "metadata": {},
   "source": [
    "#### Order of importance: NOT, AND, OR"
   ]
  },
  {
   "cell_type": "markdown",
   "metadata": {},
   "source": [
    "**NOT**"
   ]
  },
  {
   "cell_type": "code",
   "execution_count": null,
   "metadata": {},
   "outputs": [],
   "source": [
    "print (\"not True - \" + str(not True))\n",
    "print (\"not False - \" + str(not False))"
   ]
  },
  {
   "cell_type": "markdown",
   "metadata": {},
   "source": [
    "**AND**"
   ]
  },
  {
   "cell_type": "code",
   "execution_count": null,
   "metadata": {},
   "outputs": [],
   "source": [
    "print (\"True and True - \" + str(True and True))\n",
    "print (\"True and False - \" + str(True and False))\n",
    "print (\"False and True - \" + str(False and True))\n",
    "print (\"False and False - \" + str(False and False))"
   ]
  },
  {
   "cell_type": "markdown",
   "metadata": {},
   "source": [
    "**OR**"
   ]
  },
  {
   "cell_type": "code",
   "execution_count": null,
   "metadata": {},
   "outputs": [],
   "source": [
    "print (\"True or True - \" + str(True or True))\n",
    "print (\"False or True - \" + str(False or True))\n",
    "print (\"True or False - \" +  str(True or False))\n",
    "print (\"False or False - \" + str(False or False))"
   ]
  },
  {
   "cell_type": "code",
   "execution_count": null,
   "metadata": {},
   "outputs": [],
   "source": [
    "(1 > 2) and (2 < 3)"
   ]
  },
  {
   "cell_type": "code",
   "execution_count": null,
   "metadata": {},
   "outputs": [],
   "source": [
    "(1 > 2) or (2 < 3)"
   ]
  },
  {
   "cell_type": "code",
   "execution_count": null,
   "metadata": {},
   "outputs": [],
   "source": [
    "(1 == 2) or (2 == 3) or (4 == 4)"
   ]
  },
  {
   "cell_type": "code",
   "execution_count": null,
   "metadata": {},
   "outputs": [],
   "source": [
    "(1 == 2) or (2 == 3) or not(4 == 4)"
   ]
  },
  {
   "cell_type": "markdown",
   "metadata": {},
   "source": [
    "<a id=\"identity\"></a>"
   ]
  },
  {
   "cell_type": "markdown",
   "metadata": {},
   "source": [
    "<h3>Identity operations</h3>"
   ]
  },
  {
   "cell_type": "code",
   "execution_count": null,
   "metadata": {},
   "outputs": [],
   "source": [
    "is\t\t#Returns true if both variables are the same object, similar to ==\n",
    "is not  #Returns true if both variables are not the same object, similar to !="
   ]
  },
  {
   "cell_type": "markdown",
   "metadata": {},
   "source": [
    "<a id=\"bitwise\"></a>"
   ]
  },
  {
   "cell_type": "markdown",
   "metadata": {},
   "source": [
    "<h3>Bitwise operations</h3>"
   ]
  },
  {
   "cell_type": "code",
   "execution_count": null,
   "metadata": {},
   "outputs": [],
   "source": [
    "print (~200)     # Complement (NOT) (~ tilde)\n",
    "print (12 & 16)  # AND\n",
    "print (12 | 54)  # OR\n",
    "print (12 ^ 13)  # XOR\n",
    "print (10 << 2)  #left shift\n",
    "print (7 >> 23)  #right shift"
   ]
  },
  {
   "cell_type": "markdown",
   "metadata": {},
   "source": [
    "### Number System Conversion"
   ]
  },
  {
   "cell_type": "code",
   "execution_count": null,
   "metadata": {},
   "outputs": [],
   "source": [
    "int([object], [основание системы счисления]) - преобразование к целому числу в десятичной системе счисления. По умолчанию система счисления десятичная, но можно задать любое основание от 2 до 36 включительно.\n",
    "bin(x) #преобразование целого числа в двоичную строку\n",
    "hex(х) #преобразование целого числа в шестнадцатеричную строку\n",
    "oct(х) #преобразование целого числа в восьмеричную строку\n",
    "# from decimal (base 10) to binary (base 2)\n",
    "print(bin(23))\n",
    "#from decimal (base 10) to octal (base 8)\n",
    "print(oct(23))\n",
    "#from decimal (base 10) to hexadecimal (base 16)\n",
    "print(hex(23))"
   ]
  },
  {
   "cell_type": "markdown",
   "metadata": {},
   "source": [
    "### Swapping 2 variables"
   ]
  },
  {
   "cell_type": "code",
   "execution_count": null,
   "metadata": {},
   "outputs": [],
   "source": [
    "# смена значений переменных\n",
    "t, p = p, t\n",
    "print (t,p)"
   ]
  },
  {
   "cell_type": "code",
   "execution_count": null,
   "metadata": {},
   "outputs": [],
   "source": [
    "a = 2\n",
    "b = 5\n",
    "temp = a\n",
    "a = b\n",
    "b = temp\n",
    "print (a,b)"
   ]
  },
  {
   "cell_type": "code",
   "execution_count": null,
   "metadata": {},
   "outputs": [],
   "source": [
    "a = 2\n",
    "b = 5\n",
    "a = a + b\n",
    "b = a - b\n",
    "a = a - b\n",
    "print (a,b)"
   ]
  },
  {
   "cell_type": "code",
   "execution_count": null,
   "metadata": {},
   "outputs": [],
   "source": [
    "a = 2\n",
    "b = 5\n",
    "a = a ^ b\n",
    "b = a ^ b\n",
    "a = a ^ b\n",
    "print (a,b)"
   ]
  },
  {
   "cell_type": "markdown",
   "metadata": {},
   "source": [
    "### Line Continuation"
   ]
  },
  {
   "cell_type": "markdown",
   "metadata": {},
   "source": [
    "Add a backslash in the code below, so it is a one-line code. Observe the change in the result."
   ]
  },
  {
   "cell_type": "code",
   "execution_count": null,
   "metadata": {},
   "outputs": [],
   "source": [
    "10 + 20 \\\n",
    "* 4"
   ]
  },
  {
   "cell_type": "code",
   "execution_count": null,
   "metadata": {},
   "outputs": [],
   "source": [
    "a = 342365\n",
    "b = 214525\n",
    "c = a**b\n",
    "d = len(str(c))\n",
    "v = int(d)\n",
    "print(v)"
   ]
  },
  {
   "cell_type": "code",
   "execution_count": null,
   "metadata": {},
   "outputs": [],
   "source": [
    "from qiskit import *"
   ]
  },
  {
   "cell_type": "markdown",
   "metadata": {},
   "source": [
    "## Integer, Float, Complex, Boolean"
   ]
  },
  {
   "cell_type": "code",
   "execution_count": null,
   "metadata": {},
   "outputs": [],
   "source": [
    "numeric1 = 4\n",
    "numeric2 = 6.2\n",
    "numeric3 = 6+9j\n",
    "numeric4 = True\n",
    "\n",
    "print (type(numeric1))\n",
    "print (type(numeric2))\n",
    "print (type(numeric3))\n",
    "print (type(numeric4))"
   ]
  },
  {
   "cell_type": "markdown",
   "metadata": {},
   "source": [
    "## Sequences: List, Tuple, Set, String, Range"
   ]
  },
  {
   "cell_type": "code",
   "execution_count": null,
   "metadata": {},
   "outputs": [],
   "source": [
    "lst = [51,78,46,65,3,9]               #list\n",
    "tpl = (51,78,46,65,3,9)               #tuple\n",
    "st = {33,22,54,23,8,12,8,8,8,8,8,8}   #set\n",
    "name = \"Richard\"\n",
    "year = \"1992\"\n",
    "range(10)\n",
    "\n",
    "print (type(lst))\n",
    "print (type(tpl))\n",
    "print (type(st))\n",
    "print (type(name))\n",
    "print (type(year))\n",
    "print (type(range(10)))"
   ]
  },
  {
   "cell_type": "code",
   "execution_count": null,
   "metadata": {},
   "outputs": [],
   "source": []
  },
  {
   "cell_type": "code",
   "execution_count": null,
   "metadata": {},
   "outputs": [],
   "source": []
  }
 ],
 "metadata": {
  "kernelspec": {
   "display_name": "Python 3",
   "language": "python",
   "name": "python3"
  },
  "language_info": {
   "codemirror_mode": {
    "name": "ipython",
    "version": 3
   },
   "file_extension": ".py",
   "mimetype": "text/x-python",
   "name": "python",
   "nbconvert_exporter": "python",
   "pygments_lexer": "ipython3",
   "version": "3.7.3"
  }
 },
 "nbformat": 4,
 "nbformat_minor": 2
}
