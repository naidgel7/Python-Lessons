{
 "cells": [
  {
   "cell_type": "markdown",
   "metadata": {},
   "source": [
    "<h1>Strings & Strings Methods </h1>"
   ]
  },
  {
   "cell_type": "code",
   "execution_count": null,
   "metadata": {},
   "outputs": [],
   "source": [
    "sentence = \"depeche Mode is an electronic band from England\"\n",
    "\n",
    "print(sentence.count(\"band\")) # число появлений в строке конкретного значения\n",
    "print(sentence.find(\"o\")) # возвращает наименьшее значение индекса конкретной подстроки в строке\n",
    "print(sentence.swapcase()) # все заглавные буквы в строчные, и наоборот\n",
    "print(sentence.capitalize()) # меняет на заглавную букву только первый символ строки\n",
    "print(sentence.upper()) # печать в верхнем регистре\n",
    "print(sentence.lower()) # печать в нижнем регистре\n",
    "print(sentence.title()) # делает заглавными все первые буквы выбранной строки\n",
    "print(sentence.replace(\"band\", \"group\")) # замена\n",
    "print(sentence[0:16]) #slice of a string\n",
    "print(len(sentence)) # количество знаков\n",
    "print(\"Depeche mode: {} from Basildon\".format(sentence)) # обрамление дополнительными элементами"
   ]
  },
  {
   "cell_type": "markdown",
   "metadata": {},
   "source": [
    "### Срезы item [START:STOP:STEP] \n",
    "### По умолчанию START = 0, STOP = длине объекта, STEP = 1, все параметры могут быть отрицательными"
   ]
  },
  {
   "cell_type": "code",
   "execution_count": null,
   "metadata": {},
   "outputs": [],
   "source": [
    "a = \"1)DepecheMode\"\n",
    "print(len(a))\n",
    "print (a[:])\n",
    "print(a[1])\n",
    "print(a[2:9])\n",
    "print(a[2:])\n",
    "print(a[:6])\n",
    "print(a[-1])\n",
    "print (a[::3])"
   ]
  },
  {
   "cell_type": "code",
   "execution_count": null,
   "metadata": {
    "scrolled": true
   },
   "outputs": [],
   "source": [
    "\"Hello,Julia\".split(\",\")"
   ]
  },
  {
   "cell_type": "code",
   "execution_count": null,
   "metadata": {},
   "outputs": [],
   "source": [
    "\"My name is \" + \"Hello:Richard:World\".split(\":\")[1]"
   ]
  },
  {
   "cell_type": "code",
   "execution_count": null,
   "metadata": {},
   "outputs": [],
   "source": [
    "print('''This\n",
    "is\n",
    "new \n",
    "line''')"
   ]
  },
  {
   "cell_type": "code",
   "execution_count": null,
   "metadata": {},
   "outputs": [],
   "source": [
    "i = 10\n",
    "print('The value of i is', i)"
   ]
  },
  {
   "cell_type": "code",
   "execution_count": null,
   "metadata": {},
   "outputs": [],
   "source": [
    "# The keyword argument end can be used to avoid the newline after the output, \n",
    "# or end the output with a different string\n",
    "print(a, end=',') "
   ]
  },
  {
   "cell_type": "code",
   "execution_count": null,
   "metadata": {},
   "outputs": [],
   "source": [
    "x = \"Seva\"\n",
    "y = \"wins\"\n",
    "print(x,y,sep=\":\")"
   ]
  },
  {
   "cell_type": "code",
   "execution_count": null,
   "metadata": {},
   "outputs": [],
   "source": [
    "x = \"Python is \"\n",
    "y = \"awesome\"\n",
    "print(x + y)"
   ]
  },
  {
   "cell_type": "code",
   "execution_count": null,
   "metadata": {},
   "outputs": [],
   "source": [
    "b = \"Hello, \\nWorld!\"\n",
    "print(b)"
   ]
  },
  {
   "cell_type": "code",
   "execution_count": null,
   "metadata": {},
   "outputs": [],
   "source": [
    "id(a) # идентификатор (адрес в компьютере)"
   ]
  },
  {
   "cell_type": "code",
   "execution_count": 50,
   "metadata": {},
   "outputs": [
    {
     "name": "stdout",
     "output_type": "stream",
     "text": [
      "# # # # # # # # # # # # # # # \n",
      "# # # # # # # # # # # # # # # \n",
      "# # # # # # # # # # # # # # # \n",
      "# # # # # # # # # # # # # # # \n",
      "# # # # # # # # # # # # # # # \n",
      "# # # # # # # # # # # # # # # \n",
      "# # # # # # # # # # # # # # # \n",
      "# # # # # # # # # # # # # # # \n",
      "# # # # # # # # # # # # # # # \n",
      "# # # # # # # # # # # # # # # \n",
      "# # # # # # # # # # # # # # # \n",
      "# # # # # # # # # # # # # # # \n",
      "# # # # # # # # # # # # # # # \n",
      "# # # # # # # # # # # # # # # \n",
      "# # # # # # # # # # # # # # # \n"
     ]
    }
   ],
   "source": [
    "for i in range(15):\n",
    "    for j in range(15):\n",
    "        print('# ', end='')\n",
    "    print()"
   ]
  },
  {
   "cell_type": "code",
   "execution_count": 53,
   "metadata": {},
   "outputs": [
    {
     "name": "stdout",
     "output_type": "stream",
     "text": [
      "# \n",
      "# # \n",
      "# # # \n",
      "# # # # \n",
      "# # # # # \n",
      "# # # # # # \n",
      "# # # # # # # \n",
      "# # # # # # # # \n",
      "# # # # # # # # # \n",
      "# # # # # # # # # # \n",
      "# # # # # # # # # # # \n",
      "# # # # # # # # # # # # \n",
      "# # # # # # # # # # # # # \n",
      "# # # # # # # # # # # # # # \n",
      "# # # # # # # # # # # # # # # \n"
     ]
    }
   ],
   "source": [
    "for i in range(15):\n",
    "    for j in range(i+1):\n",
    "        print('# ', end='')\n",
    "    print()"
   ]
  },
  {
   "cell_type": "code",
   "execution_count": 54,
   "metadata": {},
   "outputs": [
    {
     "name": "stdout",
     "output_type": "stream",
     "text": [
      "# # # # # # # # # # # # # # # \n",
      "# # # # # # # # # # # # # # \n",
      "# # # # # # # # # # # # # \n",
      "# # # # # # # # # # # # \n",
      "# # # # # # # # # # # \n",
      "# # # # # # # # # # \n",
      "# # # # # # # # # \n",
      "# # # # # # # # \n",
      "# # # # # # # \n",
      "# # # # # # \n",
      "# # # # # \n",
      "# # # # \n",
      "# # # \n",
      "# # \n",
      "# \n"
     ]
    }
   ],
   "source": [
    "for i in range(15):\n",
    "    for j in range(15-i):\n",
    "        print('# ', end='')\n",
    "    print()"
   ]
  },
  {
   "cell_type": "code",
   "execution_count": 58,
   "metadata": {},
   "outputs": [
    {
     "name": "stdout",
     "output_type": "stream",
     "text": [
      "APQR\n",
      "ABQR\n",
      "ABCR\n",
      "ABCD\n"
     ]
    }
   ],
   "source": [
    "str1 = 'ABCD'\n",
    "str2 = 'PQR'\n",
    "for i in range(4):\n",
    "    print(str1[:i+1]+str2[i:])"
   ]
  },
  {
   "cell_type": "code",
   "execution_count": 1,
   "metadata": {},
   "outputs": [
    {
     "name": "stdout",
     "output_type": "stream",
     "text": [
      "I'm fine\n",
      "I'm fine\n"
     ]
    }
   ],
   "source": [
    "print (\"I'm fine\")\n",
    "print ('I\\'m fine')"
   ]
  },
  {
   "cell_type": "code",
   "execution_count": null,
   "metadata": {},
   "outputs": [],
   "source": [
    "'Press \"Enter\"'"
   ]
  },
  {
   "cell_type": "code",
   "execution_count": 2,
   "metadata": {},
   "outputs": [
    {
     "data": {
      "text/plain": [
       "'Redcar'"
      ]
     },
     "execution_count": 2,
     "metadata": {},
     "output_type": "execute_result"
    }
   ],
   "source": [
    "'Red' 'car'"
   ]
  },
  {
   "cell_type": "code",
   "execution_count": 3,
   "metadata": {},
   "outputs": [
    {
     "data": {
      "text/plain": [
       "'Red car'"
      ]
     },
     "execution_count": 3,
     "metadata": {},
     "output_type": "execute_result"
    }
   ],
   "source": [
    "'Red ' 'car'"
   ]
  },
  {
   "cell_type": "code",
   "execution_count": 4,
   "metadata": {},
   "outputs": [
    {
     "data": {
      "text/plain": [
       "'Red car'"
      ]
     },
     "execution_count": 4,
     "metadata": {},
     "output_type": "execute_result"
    }
   ],
   "source": [
    "'Red ' + 'car'"
   ]
  },
  {
   "cell_type": "code",
   "execution_count": 5,
   "metadata": {},
   "outputs": [
    {
     "name": "stdout",
     "output_type": "stream",
     "text": [
      "Red car\n"
     ]
    }
   ],
   "source": [
    "print ('Red ' + 'car')"
   ]
  },
  {
   "cell_type": "code",
   "execution_count": 6,
   "metadata": {},
   "outputs": [
    {
     "name": "stdout",
     "output_type": "stream",
     "text": [
      "Red car\n"
     ]
    }
   ],
   "source": [
    "print ('Red', 'car')"
   ]
  },
  {
   "cell_type": "code",
   "execution_count": 7,
   "metadata": {},
   "outputs": [
    {
     "name": "stdout",
     "output_type": "stream",
     "text": [
      "3 5\n"
     ]
    }
   ],
   "source": [
    "print (3,5)"
   ]
  },
  {
   "cell_type": "code",
   "execution_count": 20,
   "metadata": {},
   "outputs": [
    {
     "data": {
      "text/plain": [
       "(3, 5, 6.9, 7.0, 'car')"
      ]
     },
     "execution_count": 20,
     "metadata": {},
     "output_type": "execute_result"
    }
   ],
   "source": [
    "3, 5, 6.9, 7.0, 'car'"
   ]
  }
 ],
 "metadata": {
  "kernelspec": {
   "display_name": "Python 3",
   "language": "python",
   "name": "python3"
  },
  "language_info": {
   "codemirror_mode": {
    "name": "ipython",
    "version": 3
   },
   "file_extension": ".py",
   "mimetype": "text/x-python",
   "name": "python",
   "nbconvert_exporter": "python",
   "pygments_lexer": "ipython3",
   "version": "3.7.3"
  }
 },
 "nbformat": 4,
 "nbformat_minor": 2
}
